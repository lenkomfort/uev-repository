{
  "nbformat": 4,
  "nbformat_minor": 0,
  "metadata": {
    "colab": {
      "provenance": [],
      "toc_visible": true,
      "mount_file_id": "18p4851vq1fDOBlWeTpWqxqb7B2IcRM-Z",
      "authorship_tag": "ABX9TyNoXu5/3u4+WBpWKXmGz8Tg",
      "include_colab_link": true
    },
    "kernelspec": {
      "name": "python3",
      "display_name": "Python 3"
    },
    "language_info": {
      "name": "python"
    }
  },
  "cells": [
    {
      "cell_type": "markdown",
      "metadata": {
        "id": "view-in-github",
        "colab_type": "text"
      },
      "source": [
        "<a href=\"https://colab.research.google.com/github/lenkomfort/uev-repository/blob/main/test_colab_1.ipynb\" target=\"_parent\"><img src=\"https://colab.research.google.com/assets/colab-badge.svg\" alt=\"Open In Colab\"/></a>"
      ]
    },
    {
      "cell_type": "code",
      "execution_count": null,
      "metadata": {
        "id": "c1h1lqViX2tS"
      },
      "outputs": [],
      "source": []
    },
    {
      "cell_type": "markdown",
      "source": [
        "# Заголовок\n"
      ],
      "metadata": {
        "id": "dKvYRxJfX6uZ"
      }
    },
    {
      "cell_type": "markdown",
      "source": [],
      "metadata": {
        "id": "0eM2hOcIepar"
      }
    },
    {
      "cell_type": "markdown",
      "source": [
        "## Подзаголовок\n"
      ],
      "metadata": {
        "id": "13__liNVcqHv"
      }
    },
    {
      "cell_type": "code",
      "source": [
        "a=2\n",
        "d=8"
      ],
      "metadata": {
        "id": "mc8Ifq1LZ3xz"
      },
      "execution_count": 1,
      "outputs": []
    },
    {
      "cell_type": "code",
      "source": [
        "a+d"
      ],
      "metadata": {
        "colab": {
          "base_uri": "https://localhost:8080/"
        },
        "id": "Hiev28i1Z-fr",
        "outputId": "95b228a3-ce9e-4088-8f7e-0ac0b84f0349"
      },
      "execution_count": 2,
      "outputs": [
        {
          "output_type": "execute_result",
          "data": {
            "text/plain": [
              "10"
            ]
          },
          "metadata": {},
          "execution_count": 2
        }
      ]
    },
    {
      "cell_type": "code",
      "source": [
        "print(a)\n",
        "print(d)\n"
      ],
      "metadata": {
        "colab": {
          "base_uri": "https://localhost:8080/"
        },
        "id": "td7yvh9MaeUx",
        "outputId": "5fc8fcbf-1498-4404-c158-5bdf9112ac83"
      },
      "execution_count": 3,
      "outputs": [
        {
          "output_type": "stream",
          "name": "stdout",
          "text": [
            "2\n",
            "8\n"
          ]
        }
      ]
    },
    {
      "cell_type": "code",
      "source": [
        "path = \"/content/testdb2\""
      ],
      "metadata": {
        "id": "tNOK2hlKeqkQ"
      },
      "execution_count": 5,
      "outputs": []
    },
    {
      "cell_type": "code",
      "source": [],
      "metadata": {
        "id": "U3lbifUSsPur"
      },
      "execution_count": null,
      "outputs": []
    },
    {
      "cell_type": "code",
      "source": [
        "import sqlite3\n",
        "import pandas as pd\n",
        "\n",
        "# Connect to the SQLite database file\n",
        "conn = sqlite3.connect(path)\n",
        "\n",
        "# You can now execute SQL queries to read data into pandas DataFrames\n",
        "# For example, to read a table named 'your_table_name':\n",
        "# df = pd.read_sql_query(\"SELECT * FROM your_table_name\", conn)\n",
        "\n",
        "# Remember to close the connection when you're done\n",
        "# conn.close()\n",
        "\n",
        "# Replace the line below with your actual query to read data\n",
        "# For now, I'll just print a message indicating the connection is established\n",
        "print(\"Successfully connected to the database.\")"
      ],
      "metadata": {
        "colab": {
          "base_uri": "https://localhost:8080/"
        },
        "id": "-Rfpxk9mfrJx",
        "outputId": "f1f72bf3-2ad2-48c3-a67b-2c919ba687c3"
      },
      "execution_count": 7,
      "outputs": [
        {
          "output_type": "stream",
          "name": "stdout",
          "text": [
            "Successfully connected to the database.\n"
          ]
        }
      ]
    }
  ]
}